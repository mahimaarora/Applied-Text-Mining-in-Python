{
 "cells": [
  {
   "cell_type": "markdown",
   "metadata": {},
   "source": [
    "# Module 2 (Python 3)"
   ]
  },
  {
   "cell_type": "markdown",
   "metadata": {},
   "source": [
    "## Basic NLP Tasks with NLTK"
   ]
  },
  {
   "cell_type": "code",
   "execution_count": 1,
   "metadata": {},
   "outputs": [
    {
     "name": "stdout",
     "output_type": "stream",
     "text": [
      "*** Introductory Examples for the NLTK Book ***\n",
      "Loading text1, ..., text9 and sent1, ..., sent9\n",
      "Type the name of the text or sentence to view it.\n",
      "Type: 'texts()' or 'sents()' to list the materials.\n",
      "text1: Moby Dick by Herman Melville 1851\n",
      "text2: Sense and Sensibility by Jane Austen 1811\n",
      "text3: The Book of Genesis\n",
      "text4: Inaugural Address Corpus\n",
      "text5: Chat Corpus\n",
      "text6: Monty Python and the Holy Grail\n",
      "text7: Wall Street Journal\n",
      "text8: Personals Corpus\n",
      "text9: The Man Who Was Thursday by G . K . Chesterton 1908\n"
     ]
    }
   ],
   "source": [
    "import nltk\n",
    "from nltk.book import *"
   ]
  },
  {
   "cell_type": "markdown",
   "metadata": {},
   "source": [
    "### Counting vocabulary of words"
   ]
  },
  {
   "cell_type": "code",
   "execution_count": 2,
   "metadata": {},
   "outputs": [
    {
     "data": {
      "text/plain": [
       "<Text: Wall Street Journal>"
      ]
     },
     "execution_count": 2,
     "metadata": {},
     "output_type": "execute_result"
    }
   ],
   "source": [
    "text7"
   ]
  },
  {
   "cell_type": "code",
   "execution_count": 3,
   "metadata": {},
   "outputs": [
    {
     "data": {
      "text/plain": [
       "['Pierre',\n",
       " 'Vinken',\n",
       " ',',\n",
       " '61',\n",
       " 'years',\n",
       " 'old',\n",
       " ',',\n",
       " 'will',\n",
       " 'join',\n",
       " 'the',\n",
       " 'board',\n",
       " 'as',\n",
       " 'a',\n",
       " 'nonexecutive',\n",
       " 'director',\n",
       " 'Nov.',\n",
       " '29',\n",
       " '.']"
      ]
     },
     "execution_count": 3,
     "metadata": {},
     "output_type": "execute_result"
    }
   ],
   "source": [
    "sent7"
   ]
  },
  {
   "cell_type": "code",
   "execution_count": 4,
   "metadata": {},
   "outputs": [
    {
     "data": {
      "text/plain": [
       "18"
      ]
     },
     "execution_count": 4,
     "metadata": {},
     "output_type": "execute_result"
    }
   ],
   "source": [
    "len(sent7)"
   ]
  },
  {
   "cell_type": "code",
   "execution_count": 5,
   "metadata": {},
   "outputs": [
    {
     "data": {
      "text/plain": [
       "100676"
      ]
     },
     "execution_count": 5,
     "metadata": {},
     "output_type": "execute_result"
    }
   ],
   "source": [
    "len(text7)"
   ]
  },
  {
   "cell_type": "code",
   "execution_count": 6,
   "metadata": {},
   "outputs": [
    {
     "data": {
      "text/plain": [
       "12408"
      ]
     },
     "execution_count": 6,
     "metadata": {},
     "output_type": "execute_result"
    }
   ],
   "source": [
    "len(set(text7))"
   ]
  },
  {
   "cell_type": "code",
   "execution_count": 7,
   "metadata": {},
   "outputs": [
    {
     "data": {
      "text/plain": [
       "['490',\n",
       " 'lightning-fast',\n",
       " 'crowd',\n",
       " 'advancing',\n",
       " 'participant',\n",
       " 'studied',\n",
       " '4,645',\n",
       " 'sentence',\n",
       " 'virtue',\n",
       " '*T*-82']"
      ]
     },
     "execution_count": 7,
     "metadata": {},
     "output_type": "execute_result"
    }
   ],
   "source": [
    "list(set(text7))[:10]"
   ]
  },
  {
   "cell_type": "markdown",
   "metadata": {},
   "source": [
    "### Frequency of words"
   ]
  },
  {
   "cell_type": "code",
   "execution_count": 14,
   "metadata": {},
   "outputs": [
    {
     "data": {
      "text/plain": [
       "FreqDist({'Pierre': 1,\n",
       "          'Vinken': 2,\n",
       "          ',': 4885,\n",
       "          '61': 5,\n",
       "          'years': 115,\n",
       "          'old': 24,\n",
       "          'will': 281,\n",
       "          'join': 4,\n",
       "          'the': 4045,\n",
       "          'board': 30,\n",
       "          'as': 385,\n",
       "          'a': 1878,\n",
       "          'nonexecutive': 5,\n",
       "          'director': 32,\n",
       "          'Nov.': 24,\n",
       "          '29': 5,\n",
       "          '.': 3828,\n",
       "          'Mr.': 375,\n",
       "          'is': 671,\n",
       "          'chairman': 45,\n",
       "          'of': 2319,\n",
       "          'Elsevier': 1,\n",
       "          'N.V.': 3,\n",
       "          'Dutch': 3,\n",
       "          'publishing': 13,\n",
       "          'group': 43,\n",
       "          'Rudolph': 3,\n",
       "          'Agnew': 1,\n",
       "          '55': 10,\n",
       "          'and': 1511,\n",
       "          'former': 19,\n",
       "          'Consolidated': 2,\n",
       "          'Gold': 2,\n",
       "          'Fields': 2,\n",
       "          'PLC': 13,\n",
       "          'was': 367,\n",
       "          'named': 22,\n",
       "          '*-1': 1123,\n",
       "          'this': 184,\n",
       "          'British': 11,\n",
       "          'industrial': 18,\n",
       "          'conglomerate': 3,\n",
       "          'A': 110,\n",
       "          'form': 17,\n",
       "          'asbestos': 11,\n",
       "          'once': 14,\n",
       "          'used': 32,\n",
       "          '*': 965,\n",
       "          'to': 2164,\n",
       "          'make': 73,\n",
       "          'Kent': 8,\n",
       "          'cigarette': 4,\n",
       "          'filters': 7,\n",
       "          'has': 339,\n",
       "          'caused': 13,\n",
       "          'high': 31,\n",
       "          'percentage': 11,\n",
       "          'cancer': 7,\n",
       "          'deaths': 6,\n",
       "          'among': 31,\n",
       "          'workers': 20,\n",
       "          'exposed': 2,\n",
       "          'it': 476,\n",
       "          'more': 198,\n",
       "          'than': 180,\n",
       "          '30': 47,\n",
       "          'ago': 38,\n",
       "          'researchers': 13,\n",
       "          'reported': 37,\n",
       "          '0': 1099,\n",
       "          '*T*-1': 806,\n",
       "          'The': 717,\n",
       "          'fiber': 1,\n",
       "          'crocidolite': 5,\n",
       "          'unusually': 2,\n",
       "          'resilient': 1,\n",
       "          'enters': 4,\n",
       "          'lungs': 1,\n",
       "          'with': 387,\n",
       "          'even': 68,\n",
       "          'brief': 5,\n",
       "          'exposures': 3,\n",
       "          'causing': 5,\n",
       "          'symptoms': 1,\n",
       "          'that': 807,\n",
       "          'show': 13,\n",
       "          'up': 153,\n",
       "          'decades': 3,\n",
       "          'later': 13,\n",
       "          'said': 628,\n",
       "          '*T*-2': 345,\n",
       "          'Lorillard': 5,\n",
       "          'Inc.': 97,\n",
       "          'unit': 36,\n",
       "          'New': 165,\n",
       "          'York-based': 5,\n",
       "          'Loews': 1,\n",
       "          'Corp.': 117,\n",
       "          'makes': 11,\n",
       "          'cigarettes': 6,\n",
       "          'stopped': 7,\n",
       "          'using': 16,\n",
       "          'in': 1572,\n",
       "          'its': 332,\n",
       "          'Micronite': 1,\n",
       "          '1956': 2,\n",
       "          'Although': 14,\n",
       "          'preliminary': 5,\n",
       "          'findings': 8,\n",
       "          'were': 197,\n",
       "          '*-2': 372,\n",
       "          'year': 212,\n",
       "          'latest': 22,\n",
       "          'results': 21,\n",
       "          'appear': 4,\n",
       "          'today': 22,\n",
       "          \"'s\": 864,\n",
       "          'England': 23,\n",
       "          'Journal': 10,\n",
       "          'Medicine': 5,\n",
       "          'forum': 2,\n",
       "          'likely': 22,\n",
       "          'bring': 9,\n",
       "          'new': 162,\n",
       "          'attention': 8,\n",
       "          'problem': 30,\n",
       "          'spokewoman': 1,\n",
       "          '``': 702,\n",
       "          'This': 40,\n",
       "          'an': 316,\n",
       "          'story': 6,\n",
       "          'We': 47,\n",
       "          \"'re\": 29,\n",
       "          'talking': 4,\n",
       "          'about': 206,\n",
       "          'before': 48,\n",
       "          'anyone': 6,\n",
       "          'heard': 4,\n",
       "          'having': 11,\n",
       "          'any': 105,\n",
       "          'questionable': 3,\n",
       "          'properties': 1,\n",
       "          'There': 32,\n",
       "          'no': 87,\n",
       "          'our': 26,\n",
       "          'products': 32,\n",
       "          'now': 61,\n",
       "          \"''\": 684,\n",
       "          'Neither': 5,\n",
       "          'nor': 11,\n",
       "          'who': 163,\n",
       "          '*T*-3': 97,\n",
       "          'studied': 5,\n",
       "          'aware': 3,\n",
       "          'research': 33,\n",
       "          'on': 490,\n",
       "          'smokers': 2,\n",
       "          'have': 323,\n",
       "          'useful': 2,\n",
       "          'information': 26,\n",
       "          'whether': 28,\n",
       "          'users': 2,\n",
       "          'are': 369,\n",
       "          'at': 402,\n",
       "          'risk': 12,\n",
       "          'James': 22,\n",
       "          'A.': 18,\n",
       "          'Talcott': 4,\n",
       "          'Boston': 17,\n",
       "          'Dana-Farber': 1,\n",
       "          'Cancer': 2,\n",
       "          'Institute': 15,\n",
       "          'Dr.': 13,\n",
       "          'led': 16,\n",
       "          'team': 17,\n",
       "          'from': 386,\n",
       "          'National': 20,\n",
       "          'medical': 7,\n",
       "          'schools': 9,\n",
       "          'Harvard': 3,\n",
       "          'University': 22,\n",
       "          'spokeswoman': 8,\n",
       "          'very': 31,\n",
       "          'modest': 3,\n",
       "          'amounts': 6,\n",
       "          'making': 20,\n",
       "          'paper': 28,\n",
       "          'for': 817,\n",
       "          'early': 43,\n",
       "          '1950s': 2,\n",
       "          'replaced': 6,\n",
       "          'different': 21,\n",
       "          'type': 11,\n",
       "          'filter': 1,\n",
       "          'From': 5,\n",
       "          '1953': 1,\n",
       "          '1955': 1,\n",
       "          '9.8': 2,\n",
       "          'billion': 159,\n",
       "          'sold': 39,\n",
       "          '*-3': 130,\n",
       "          'company': 260,\n",
       "          'Among': 13,\n",
       "          '33': 7,\n",
       "          'men': 10,\n",
       "          '*T*-4': 23,\n",
       "          'worked': 7,\n",
       "          'closely': 15,\n",
       "          'substance': 5,\n",
       "          '28': 4,\n",
       "          '*ICH*-1': 70,\n",
       "          'died': 3,\n",
       "          '--': 230,\n",
       "          'three': 48,\n",
       "          'times': 16,\n",
       "          'expected': 52,\n",
       "          'number': 45,\n",
       "          'Four': 1,\n",
       "          'five': 29,\n",
       "          'surviving': 3,\n",
       "          'asbestos-related': 3,\n",
       "          'diseases': 7,\n",
       "          'including': 39,\n",
       "          'recently': 25,\n",
       "          'diagnosed': 1,\n",
       "          'total': 24,\n",
       "          '18': 18,\n",
       "          'malignant': 1,\n",
       "          'mesothelioma': 1,\n",
       "          'lung': 2,\n",
       "          'asbestosis': 1,\n",
       "          'far': 32,\n",
       "          'higher': 49,\n",
       "          '*?*': 45,\n",
       "          'morbidity': 1,\n",
       "          'rate': 42,\n",
       "          'striking': 2,\n",
       "          'finding': 6,\n",
       "          'those': 55,\n",
       "          'us': 26,\n",
       "          '*T*-5': 5,\n",
       "          'study': 13,\n",
       "          'West': 13,\n",
       "          'Groton': 1,\n",
       "          'Mass.': 8,\n",
       "          'factory': 12,\n",
       "          'appears': 8,\n",
       "          'be': 356,\n",
       "          'highest': 8,\n",
       "          'Western': 13,\n",
       "          'industrialized': 2,\n",
       "          'countries': 21,\n",
       "          'he': 230,\n",
       "          'plant': 21,\n",
       "          'which': 225,\n",
       "          'owned': 6,\n",
       "          '*-4': 34,\n",
       "          'by': 429,\n",
       "          'Hollingsworth': 2,\n",
       "          '&': 86,\n",
       "          'Vose': 2,\n",
       "          'Co.': 74,\n",
       "          'under': 60,\n",
       "          'contract': 37,\n",
       "          '*ICH*-2': 34,\n",
       "          'probably': 14,\n",
       "          'support': 22,\n",
       "          '*T*-6': 2,\n",
       "          'argue': 6,\n",
       "          'U.S.': 221,\n",
       "          'should': 38,\n",
       "          'regulate': 2,\n",
       "          'class': 8,\n",
       "          'stringently': 1,\n",
       "          'common': 57,\n",
       "          'kind': 14,\n",
       "          'chrysotile': 2,\n",
       "          'found': 23,\n",
       "          'most': 75,\n",
       "          'other': 134,\n",
       "          'buildings': 3,\n",
       "          'one': 132,\n",
       "          'few': 33,\n",
       "          'nations': 15,\n",
       "          '*T*-7': 2,\n",
       "          'does': 54,\n",
       "          \"n't\": 325,\n",
       "          'standard': 7,\n",
       "          'regulation': 3,\n",
       "          'smooth': 1,\n",
       "          'needle-like': 1,\n",
       "          'fibers': 4,\n",
       "          'such': 87,\n",
       "          'classified': 1,\n",
       "          '*-5': 11,\n",
       "          'amphobiles': 1,\n",
       "          'according': 34,\n",
       "          'Brooke': 1,\n",
       "          'T.': 11,\n",
       "          'Mossman': 2,\n",
       "          'professor': 8,\n",
       "          'pathlogy': 1,\n",
       "          'Vermont': 1,\n",
       "          'College': 6,\n",
       "          'More': 6,\n",
       "          'curly': 1,\n",
       "          'easily': 6,\n",
       "          'rejected': 11,\n",
       "          'body': 2,\n",
       "          'explained': 3,\n",
       "          'In': 197,\n",
       "          'July': 8,\n",
       "          'Environmental': 1,\n",
       "          'Protection': 1,\n",
       "          'Agency': 5,\n",
       "          'imposed': 3,\n",
       "          'gradual': 1,\n",
       "          'ban': 12,\n",
       "          'virtually': 6,\n",
       "          'all': 103,\n",
       "          'uses': 8,\n",
       "          'By': 11,\n",
       "          '1997': 1,\n",
       "          'almost': 22,\n",
       "          'remaining': 9,\n",
       "          'cancer-causing': 1,\n",
       "          'outlawed': 1,\n",
       "          '*-6': 4,\n",
       "          'About': 6,\n",
       "          '160': 1,\n",
       "          '*T*-8': 2,\n",
       "          'made': 56,\n",
       "          '*-7': 4,\n",
       "          'Areas': 1,\n",
       "          'particularly': 17,\n",
       "          'dusty': 1,\n",
       "          'where': 34,\n",
       "          '*-8': 2,\n",
       "          'Workers': 2,\n",
       "          'dumped': 4,\n",
       "          'large': 29,\n",
       "          'burlap': 1,\n",
       "          'sacks': 1,\n",
       "          'imported': 4,\n",
       "          'material': 10,\n",
       "          'into': 87,\n",
       "          'huge': 14,\n",
       "          'bin': 1,\n",
       "          'poured': 1,\n",
       "          'cotton': 1,\n",
       "          'acetate': 1,\n",
       "          'mechanically': 1,\n",
       "          'mixed': 8,\n",
       "          'dry': 4,\n",
       "          'process': 13,\n",
       "          'described': 8,\n",
       "          'clouds': 1,\n",
       "          'blue': 5,\n",
       "          'dust': 1,\n",
       "          'hung': 1,\n",
       "          'over': 82,\n",
       "          'parts': 7,\n",
       "          'though': 29,\n",
       "          'exhaust': 2,\n",
       "          'fans': 2,\n",
       "          'ventilated': 1,\n",
       "          'area': 9,\n",
       "          'question': 14,\n",
       "          'some': 122,\n",
       "          'managers': 40,\n",
       "          'contracted': 2,\n",
       "          'Darrell': 1,\n",
       "          'Phillips': 2,\n",
       "          'vice': 44,\n",
       "          'president': 133,\n",
       "          'human': 4,\n",
       "          'resources': 5,\n",
       "          'But': 158,\n",
       "          'you': 70,\n",
       "          'recognize': 3,\n",
       "          'these': 55,\n",
       "          'events': 3,\n",
       "          'took': 28,\n",
       "          'place': 19,\n",
       "          '35': 7,\n",
       "          'It': 100,\n",
       "          'bearing': 3,\n",
       "          'work': 27,\n",
       "          'force': 23,\n",
       "          'Yields': 1,\n",
       "          'money-market': 3,\n",
       "          'mutual': 8,\n",
       "          'funds': 67,\n",
       "          'continued': 14,\n",
       "          'slide': 5,\n",
       "          'amid': 4,\n",
       "          'signs': 8,\n",
       "          'portfolio': 9,\n",
       "          'expect': 8,\n",
       "          'further': 17,\n",
       "          'declines': 7,\n",
       "          'interest': 53,\n",
       "          'rates': 50,\n",
       "          'average': 32,\n",
       "          'seven-day': 3,\n",
       "          'compound': 4,\n",
       "          'yield': 48,\n",
       "          '400': 7,\n",
       "          'taxable': 2,\n",
       "          'tracked': 1,\n",
       "          'IBC': 1,\n",
       "          'Money': 6,\n",
       "          'Fund': 12,\n",
       "          'Report': 8,\n",
       "          'eased': 3,\n",
       "          'fraction': 1,\n",
       "          'point': 29,\n",
       "          '8.45': 2,\n",
       "          '%': 446,\n",
       "          '8.47': 2,\n",
       "          'week': 55,\n",
       "          'ended': 24,\n",
       "          'Tuesday': 46,\n",
       "          'Compound': 1,\n",
       "          'yields': 7,\n",
       "          'assume': 4,\n",
       "          'reinvestment': 1,\n",
       "          'dividends': 21,\n",
       "          'current': 32,\n",
       "          'continues': 13,\n",
       "          'Average': 10,\n",
       "          'maturity': 3,\n",
       "          \"'\": 73,\n",
       "          'investments': 17,\n",
       "          'lengthened': 1,\n",
       "          'day': 23,\n",
       "          '41': 4,\n",
       "          'days': 51,\n",
       "          'longest': 1,\n",
       "          'since': 50,\n",
       "          'August': 18,\n",
       "          'Donoghue': 1,\n",
       "          'Longer': 1,\n",
       "          'maturities': 3,\n",
       "          'thought': 8,\n",
       "          'indicate': 3,\n",
       "          'declining': 4,\n",
       "          'because': 118,\n",
       "          'they': 210,\n",
       "          'permit': 3,\n",
       "          'retain': 3,\n",
       "          'relatively': 11,\n",
       "          'longer': 9,\n",
       "          'period': 25,\n",
       "          'Shorter': 1,\n",
       "          'considered': 9,\n",
       "          '*-9': 2,\n",
       "          'sign': 12,\n",
       "          'rising': 11,\n",
       "          'can': 94,\n",
       "          'capture': 4,\n",
       "          'sooner': 2,\n",
       "          'open': 9,\n",
       "          'only': 78,\n",
       "          'institutions': 18,\n",
       "          'stronger': 5,\n",
       "          'indicator': 4,\n",
       "          'watch': 11,\n",
       "          'market': 176,\n",
       "          'reached': 17,\n",
       "          'Nevertheless': 2,\n",
       "          'Brenda': 1,\n",
       "          'Malizia': 1,\n",
       "          'Negus': 1,\n",
       "          'editor': 11,\n",
       "          'may': 70,\n",
       "          'blip': 2,\n",
       "          'again': 14,\n",
       "          'down': 56,\n",
       "          'recent': 72,\n",
       "          'rises': 1,\n",
       "          'short-term': 14,\n",
       "          'six-month': 6,\n",
       "          'Treasury': 41,\n",
       "          'bills': 19,\n",
       "          'Monday': 12,\n",
       "          'auction': 5,\n",
       "          'example': 27,\n",
       "          'rose': 61,\n",
       "          '8.04': 2,\n",
       "          '7.90': 4,\n",
       "          'Despite': 11,\n",
       "          'investors': 63,\n",
       "          'continue': 20,\n",
       "          'pour': 1,\n",
       "          'cash': 43,\n",
       "          'money': 53,\n",
       "          'Assets': 1,\n",
       "          'grew': 4,\n",
       "          '$': 718,\n",
       "          '1.5': 7,\n",
       "          '*U*': 744,\n",
       "          'during': 38,\n",
       "          '352.7': 1,\n",
       "          'Typically': 2,\n",
       "          'money-fund': 1,\n",
       "          'beat': 6,\n",
       "          'comparable': 3,\n",
       "          'vary': 2,\n",
       "          'go': 22,\n",
       "          'after': 78,\n",
       "          'top': 12,\n",
       "          'currently': 22,\n",
       "          'yielding': 5,\n",
       "          'well': 46,\n",
       "          '9': 18,\n",
       "          'Dreyfus': 1,\n",
       "          'World-Wide': 1,\n",
       "          'Dollar': 2,\n",
       "          'top-yielding': 1,\n",
       "          'fund': 13,\n",
       "          'had': 165,\n",
       "          '9.37': 1,\n",
       "          '9.45': 1,\n",
       "          'earlier': 48,\n",
       "          'invests': 1,\n",
       "          'heavily': 7,\n",
       "          'dollar-denominated': 3,\n",
       "          'securities': 33,\n",
       "          'overseas': 11,\n",
       "          'waiving': 1,\n",
       "          'management': 22,\n",
       "          'fees': 19,\n",
       "          '*T*-9': 2,\n",
       "          'boosts': 4,\n",
       "          'simple': 4,\n",
       "          '8.12': 1,\n",
       "          '8.14': 1,\n",
       "          '30-day': 8,\n",
       "          'fell': 32,\n",
       "          '8.19': 1,\n",
       "          '8.22': 1,\n",
       "          ';': 171,\n",
       "          'slid': 2,\n",
       "          '8.53': 1,\n",
       "          '8.56': 1,\n",
       "          'J.P.': 1,\n",
       "          'Bolduc': 1,\n",
       "          'W.R.': 3,\n",
       "          'Grace': 4,\n",
       "          '*T*-10': 2,\n",
       "          'holds': 4,\n",
       "          '83.4': 1,\n",
       "          'energy-services': 1,\n",
       "          'elected': 6,\n",
       "          '*-10': 2,\n",
       "          'He': 73,\n",
       "          'succeeds': 2,\n",
       "          'Terrence': 1,\n",
       "          'D.': 15,\n",
       "          'Daniels': 1,\n",
       "          'formerly': 3,\n",
       "          '*T*-11': 2,\n",
       "          'resigned': 6,\n",
       "          'Energy': 6,\n",
       "          'seven': 9,\n",
       "          'seats': 7,\n",
       "          'Pacific': 10,\n",
       "          'First': 38,\n",
       "          'Financial': 16,\n",
       "          'shareholders': 20,\n",
       "          'approved': 25,\n",
       "          'acquisition': 15,\n",
       "          'Royal': 1,\n",
       "          'Trustco': 1,\n",
       "          'Ltd.': 19,\n",
       "          'Toronto': 5,\n",
       "          '27': 5,\n",
       "          'share': 119,\n",
       "          'or': 291,\n",
       "          '212': 1,\n",
       "          'million': 383,\n",
       "          'thrift': 18,\n",
       "          'holding': 20,\n",
       "          'expects': 19,\n",
       "          'obtain': 3,\n",
       "          'regulatory': 8,\n",
       "          'approval': 10,\n",
       "          'complete': 7,\n",
       "          'transaction': 20,\n",
       "          'year-end': 2,\n",
       "          'McDermott': 1,\n",
       "          'International': 33,\n",
       "          'Babcock': 1,\n",
       "          'Wilcox': 1,\n",
       "          'completed': 15,\n",
       "          'sale': 27,\n",
       "          'Bailey': 3,\n",
       "          'Controls': 2,\n",
       "          'Operations': 2,\n",
       "          'Finmeccanica': 2,\n",
       "          'S.p': 1,\n",
       "          '295': 1,\n",
       "          'Italian': 4,\n",
       "          'state-owned': 2,\n",
       "          'interests': 7,\n",
       "          'mechanical': 4,\n",
       "          'engineering': 9,\n",
       "          'industry': 41,\n",
       "          'based': 31,\n",
       "          'Wickliffe': 1,\n",
       "          'Ohio': 9,\n",
       "          'computerized': 1,\n",
       "          'controls': 4,\n",
       "          'systems': 6,\n",
       "          'employs': 3,\n",
       "          '2,700': 1,\n",
       "          'people': 56,\n",
       "          'annual': 17,\n",
       "          'revenue': 11,\n",
       "          '370': 1,\n",
       "          'federal': 51,\n",
       "          'government': 83,\n",
       "          'suspended': 9,\n",
       "          'sales': 59,\n",
       "          'savings': 13,\n",
       "          'bonds': 59,\n",
       "          'Congress': 46,\n",
       "          'lifted': 2,\n",
       "          'ceiling': 10,\n",
       "          'debt': 46,\n",
       "          'Until': 5,\n",
       "          'acts': 3,\n",
       "          'authority': 12,\n",
       "          'issue': 60,\n",
       "          'obligations': 2,\n",
       "          'borrowing': 4,\n",
       "          'dropped': 13,\n",
       "          'midnight': 2,\n",
       "          '2.80': 1,\n",
       "          'trillion': 5,\n",
       "          '2.87': 2,\n",
       "          'Legislation': 1,\n",
       "          'lift': 4,\n",
       "          'ensnarled': 1,\n",
       "          '*-11': 2,\n",
       "          'fight': 3,\n",
       "          'cutting': 5,\n",
       "          'capital-gains': 2,\n",
       "          'taxes': 4,\n",
       "          'House': 55,\n",
       "          'voted': 5,\n",
       "          'raise': 21,\n",
       "          '3.1': 5,\n",
       "          'but': 151,\n",
       "          'Senate': 18,\n",
       "          'act': 12,\n",
       "          'until': 31,\n",
       "          'next': 67,\n",
       "          'earliest': 1,\n",
       "          'default': 5,\n",
       "          'if': 81,\n",
       "          'then': 27,\n",
       "          'Clark': 1,\n",
       "          'J.': 15,\n",
       "          'Vitulli': 2,\n",
       "          '*-12': 2,\n",
       "          'senior': 20,\n",
       "          '*RNR*-1': 34,\n",
       "          'general': 21,\n",
       "          'manager': 27,\n",
       "          'marketing': 17,\n",
       "          'arm': 3,\n",
       "          'Japanese': 91,\n",
       "          'auto': 13,\n",
       "          'maker': 28,\n",
       "          'Mazda': 2,\n",
       "          'Motor': 7,\n",
       "          'Corp': 11,\n",
       "          'position': 13,\n",
       "          'oversee': 1,\n",
       "          'service': 24,\n",
       "          'operations': 29,\n",
       "          'Previously': 4,\n",
       "          '43': 3,\n",
       "          'Chrysler': 6,\n",
       "          'division': 24,\n",
       "          'been': 150,\n",
       "          'executive': 68,\n",
       "          '20': 25,\n",
       "          'When': 21,\n",
       "          'time': 63,\n",
       "          'their': 181,\n",
       "          'biannual': 1,\n",
       "          'powwow': 1,\n",
       "          'nation': 25,\n",
       "          'manufacturing': 22,\n",
       "          'titans': 1,\n",
       "          'typically': 3,\n",
       "          'jet': 3,\n",
       "          'off': 45,\n",
       "          'sunny': 1,\n",
       "          'confines': 1,\n",
       "          'resort': 2,\n",
       "          'towns': 2,\n",
       "          'like': 57,\n",
       "          'Boca': 3,\n",
       "          'Raton': 2,\n",
       "          'Hot': 2,\n",
       "          'Springs': 3,\n",
       "          'Not': 7,\n",
       "          'Association': 21,\n",
       "          'Manufacturers': 3,\n",
       "          'settled': 5,\n",
       "          'Hoosier': 1,\n",
       "          'capital': 32,\n",
       "          'Indianapolis': 4,\n",
       "          'fall': 24,\n",
       "          'meeting': 16,\n",
       "          'And': 44,\n",
       "          'city': 17,\n",
       "          'decided': 16,\n",
       "          'treat': 4,\n",
       "          'guests': 3,\n",
       "          'royalty': 1,\n",
       "          'rock': 1,\n",
       "          'stars': 2,\n",
       "          'owners': 4,\n",
       "          'idea': 11,\n",
       "          'course': 11,\n",
       "          ':': 142,\n",
       "          'prove': 9,\n",
       "          '125': 4,\n",
       "          'corporate': 25,\n",
       "          'decision': 19,\n",
       "          'makers': 12,\n",
       "          'buckle': 1,\n",
       "          'Rust': 1,\n",
       "          'Belt': 3,\n",
       "          'so': 71,\n",
       "          'rusty': 1,\n",
       "          'good': 42,\n",
       "          'expand': 5,\n",
       "          'On': 17,\n",
       "          'receiving': 4,\n",
       "          'end': 30,\n",
       "          'message': 4,\n",
       "          'officials': 47,\n",
       "          'giants': 2,\n",
       "          'Du': 2,\n",
       "          'Pont': 2,\n",
       "          'Maytag': 1,\n",
       "          'along': 6,\n",
       "          'lesser': 1,\n",
       "          'knowns': 1,\n",
       "          'Trojan': 1,\n",
       "          'Steel': 5,\n",
       "          'Valley': 12,\n",
       "          'Queen': 1,\n",
       "          'Cheese': 1,\n",
       "          'Factory': 4,\n",
       "          'For': 36,\n",
       "          'starters': 1,\n",
       "          'executives': 19,\n",
       "          'joined': 4,\n",
       "          'Mayor': 2,\n",
       "          'William': 23,\n",
       "          'H.': 5,\n",
       "          'Hudnut': 1,\n",
       "          'III': 3,\n",
       "          'evening': 4,\n",
       "          'Symphony': 1,\n",
       "          'Orchestra': 1,\n",
       "          'guest': 1,\n",
       "          'pianist-comedian': 1,\n",
       "          'Victor': 2,\n",
       "          'Borge': 1,\n",
       "          'Champagne': 4,\n",
       "          'dessert': 1,\n",
       "          'followed': 12,\n",
       "          'morning': 4,\n",
       "          'police': 5,\n",
       "          'escort': 1,\n",
       "          'busloads': 1,\n",
       "          'wives': 1,\n",
       "          'raced': 1,\n",
       "          'Speedway': 1,\n",
       "          'unimpeded': 1,\n",
       "          'traffic': 1,\n",
       "          'red': 3,\n",
       "          'lights': 2,\n",
       "          'governor': 3,\n",
       "          'could': 120,\n",
       "          'lieutenant': 1,\n",
       "          'welcomed': 2,\n",
       "          'special': 15,\n",
       "          'buffet': 2,\n",
       "          'breakfast': 1,\n",
       "          'held': 21,\n",
       "          'museum': 2,\n",
       "          'food': 16,\n",
       "          'drinks': 1,\n",
       "          'banned': 3,\n",
       "          'everyday': 1,\n",
       "          'visitors': 2,\n",
       "          'Then': 7,\n",
       "          'honor': 5,\n",
       "          'speedway': 1,\n",
       "          'hauled': 1,\n",
       "          'out': 78,\n",
       "          'four': 20,\n",
       "          'drivers': 3,\n",
       "          'crews': 1,\n",
       "          'official': 20,\n",
       "          '500': 38,\n",
       "          'announcer': 5,\n",
       "          '10-lap': 1,\n",
       "          'exhibition': 2,\n",
       "          'race': 3,\n",
       "          'After': 11,\n",
       "          'Fortune': 1,\n",
       "          'drooled': 1,\n",
       "          'schoolboys': 1,\n",
       "          'cars': 19,\n",
       "          'No': 11,\n",
       "          'dummies': 1,\n",
       "          'pointed': 3,\n",
       "          'still': 36,\n",
       "          'space': 9,\n",
       "          'machines': 2,\n",
       "          'another': 42,\n",
       "          'sponsor': 2,\n",
       "          'name': 8,\n",
       "          'two': 103,\n",
       "          'Back': 1,\n",
       "          'downtown': 2,\n",
       "          'execs': 1,\n",
       "          'squeezed': 2,\n",
       "          'meetings': 6,\n",
       "          'hotel': 3,\n",
       "          'boarding': 1,\n",
       "          'buses': 3,\n",
       "          'dinner': 2,\n",
       "          'dancing': 1,\n",
       "          'block': 9,\n",
       "          'away': 17,\n",
       "          'Under': 14,\n",
       "          'moons': 1,\n",
       "          'renovated': 1,\n",
       "          'Indiana': 5,\n",
       "          'Roof': 1,\n",
       "          'ballroom': 1,\n",
       "          'nine': 12,\n",
       "          'hottest': 1,\n",
       "          'chefs': 2,\n",
       "          'town': 3,\n",
       "          'fed': 2,\n",
       "          'them': 70,\n",
       "          'duckling': 1,\n",
       "          'mousseline': 1,\n",
       "          'lobster': 1,\n",
       "          'consomme': 1,\n",
       "          'veal': 1,\n",
       "          'mignon': 1,\n",
       "          'chocolate': 1,\n",
       "          'terrine': 1,\n",
       "          'raspberry': 1,\n",
       "          'sauce': 1,\n",
       "          'Knowing': 1,\n",
       "          'tasty': 1,\n",
       "          'free': 15,\n",
       "          'meal': 2,\n",
       "          'when': 77,\n",
       "          'eat': 1,\n",
       "          'gave': 10,\n",
       "          'standing': 6,\n",
       "          'ovation': 1,\n",
       "          'CEOs': 2,\n",
       "          'say': 75,\n",
       "          'red-carpet': 1,\n",
       "          'treatment': 9,\n",
       "          'tempts': 1,\n",
       "          'return': 28,\n",
       "          'heartland': 1,\n",
       "          'future': 26,\n",
       "          'looking': 9,\n",
       "          'forward': 4,\n",
       "          'winter': 1,\n",
       "          'February': 3,\n",
       "          'South': 40,\n",
       "          'Korea': 19,\n",
       "          'registered': 6,\n",
       "          'trade': 50,\n",
       "          'deficit': 6,\n",
       "          '101': 2,\n",
       "          'October': 61,\n",
       "          'reflecting': 4,\n",
       "          'country': 46,\n",
       "          'economic': 41,\n",
       "          'sluggishness': 1,\n",
       "          'figures': 12,\n",
       "          'released': 4,\n",
       "          'Wednesday': 16,\n",
       "          'Preliminary': 1,\n",
       "          'tallies': 1,\n",
       "          'Trade': 14,\n",
       "          'Industry': 4,\n",
       "          'Ministry': 10,\n",
       "          'showed': 13,\n",
       "          'fifth': 7,\n",
       "          'monthly': 8,\n",
       "          'setback': 2,\n",
       "          'casting': 2,\n",
       "          'cloud': 1,\n",
       "          'export-oriented': 1,\n",
       "          'economy': 26,\n",
       "          'Exports': 1,\n",
       "          'stood': 5,\n",
       "          '5.29': 1,\n",
       "          'mere': 2,\n",
       "          '0.7': 1,\n",
       "          'increase': 31,\n",
       "          'while': 49,\n",
       "          'imports': 12,\n",
       "          'increased': 23,\n",
       "          'sharply': 11,\n",
       "          '5.39': 1,\n",
       "          'last': 90,\n",
       "          'boom': 2,\n",
       "          '*T*-12': 2,\n",
       "          'began': 32,\n",
       "          '1986': 10,\n",
       "          'prolonged': 2,\n",
       "          'labor': 5,\n",
       "          'disputes': 3,\n",
       "          'conflicts': 2,\n",
       "          'sluggish': 8,\n",
       "          'exports': 11,\n",
       "          'Government': 4,\n",
       "          'would': 209,\n",
       "          'remain': 12,\n",
       "          'target': 10,\n",
       "          '68': 2,\n",
       "          'gloomy': 1,\n",
       "          'forecast': 7,\n",
       "          'recorded': 2,\n",
       "          'surplus': 2,\n",
       "          '71': 3,\n",
       "          'January': 12,\n",
       "          'accumulated': 1,\n",
       "          '4': 16,\n",
       "          'same': 37,\n",
       "          '50.45': 1,\n",
       "          'Imports': 3,\n",
       "          '50.38': 1,\n",
       "          '19': 8,\n",
       "          'Newsweek': 10,\n",
       "          'trying': 22,\n",
       "          'keep': 16,\n",
       "          'pace': 6,\n",
       "          'rival': 5,\n",
       "          'Time': 8,\n",
       "          'magazine': 23,\n",
       "          'announced': 17,\n",
       "          'advertising': 13,\n",
       "          '1990': 43,\n",
       "          'introduce': 7,\n",
       "          'incentive': 4,\n",
       "          'plan': 48,\n",
       "          'advertisers': 13,\n",
       "          'ad': 28,\n",
       "          'Washington': 23,\n",
       "          'Post': 1,\n",
       "          'second': 14,\n",
       "          'offered': 26,\n",
       "          'Plans': 2,\n",
       "          '*T*-13': 2,\n",
       "          'give': 21,\n",
       "          'discounts': 1,\n",
       "          'maintaining': 4,\n",
       "          'increasing': 18,\n",
       "          'spending': 26,\n",
       "          'become': 23,\n",
       "          'permanent': 2,\n",
       "          'fixtures': 1,\n",
       "          'news': 24,\n",
       "          'weeklies': 2,\n",
       "          'underscore': 1,\n",
       "          'fierce': 2,\n",
       "          'competition': 10,\n",
       "          'between': 36,\n",
       "          'Warner': 3,\n",
       "          'Mortimer': 1,\n",
       "          'B.': 7,\n",
       "          'Zuckerman': 1,\n",
       "          'News': 6,\n",
       "          'World': 15,\n",
       "          'Alan': 3,\n",
       "          'Spoon': 3,\n",
       "          '5': 19,\n",
       "          ...})"
      ]
     },
     "execution_count": 14,
     "metadata": {},
     "output_type": "execute_result"
    }
   ],
   "source": [
    "dist = FreqDist(text7)\n",
    "dist"
   ]
  },
  {
   "cell_type": "code",
   "execution_count": 15,
   "metadata": {},
   "outputs": [
    {
     "data": {
      "text/plain": [
       "['Pierre', 'Vinken', ',', '61', 'years', 'old', 'will', 'join', 'the', 'board']"
      ]
     },
     "execution_count": 15,
     "metadata": {},
     "output_type": "execute_result"
    }
   ],
   "source": [
    "vocab1 = dist.keys()\n",
    "#vocab1[:10] \n",
    "# In Python 3 dict.keys() returns an iterable view instead of a list\n",
    "list(vocab1)[:10]"
   ]
  },
  {
   "cell_type": "code",
   "execution_count": 16,
   "metadata": {},
   "outputs": [
    {
     "data": {
      "text/plain": [
       "20"
      ]
     },
     "execution_count": 16,
     "metadata": {},
     "output_type": "execute_result"
    }
   ],
   "source": [
    "dist['four']"
   ]
  },
  {
   "cell_type": "code",
   "execution_count": 17,
   "metadata": {},
   "outputs": [
    {
     "data": {
      "text/plain": [
       "['billion',\n",
       " 'company',\n",
       " 'president',\n",
       " 'because',\n",
       " 'market',\n",
       " 'million',\n",
       " 'shares',\n",
       " 'trading',\n",
       " 'program']"
      ]
     },
     "execution_count": 17,
     "metadata": {},
     "output_type": "execute_result"
    }
   ],
   "source": [
    "freqwords = [w for w in vocab1 if len(w) > 5 and dist[w] > 100]\n",
    "freqwords"
   ]
  },
  {
   "cell_type": "markdown",
   "metadata": {},
   "source": [
    "### Normalization and stemming"
   ]
  },
  {
   "cell_type": "code",
   "execution_count": 18,
   "metadata": {},
   "outputs": [
    {
     "data": {
      "text/plain": [
       "['list', 'listed', 'lists', 'listing', 'listings']"
      ]
     },
     "execution_count": 18,
     "metadata": {},
     "output_type": "execute_result"
    }
   ],
   "source": [
    "input1 = \"List listed lists listing listings\"\n",
    "words1 = input1.lower().split(' ')\n",
    "words1"
   ]
  },
  {
   "cell_type": "code",
   "execution_count": 19,
   "metadata": {},
   "outputs": [
    {
     "data": {
      "text/plain": [
       "['list', 'list', 'list', 'list', 'list']"
      ]
     },
     "execution_count": 19,
     "metadata": {},
     "output_type": "execute_result"
    }
   ],
   "source": [
    "porter = nltk.PorterStemmer()\n",
    "[porter.stem(t) for t in words1]"
   ]
  },
  {
   "cell_type": "markdown",
   "metadata": {},
   "source": [
    "### Lemmatization"
   ]
  },
  {
   "cell_type": "code",
   "execution_count": 20,
   "metadata": {},
   "outputs": [
    {
     "data": {
      "text/plain": [
       "['Universal',\n",
       " 'Declaration',\n",
       " 'of',\n",
       " 'Human',\n",
       " 'Rights',\n",
       " 'Preamble',\n",
       " 'Whereas',\n",
       " 'recognition',\n",
       " 'of',\n",
       " 'the',\n",
       " 'inherent',\n",
       " 'dignity',\n",
       " 'and',\n",
       " 'of',\n",
       " 'the',\n",
       " 'equal',\n",
       " 'and',\n",
       " 'inalienable',\n",
       " 'rights',\n",
       " 'of']"
      ]
     },
     "execution_count": 20,
     "metadata": {},
     "output_type": "execute_result"
    }
   ],
   "source": [
    "udhr = nltk.corpus.udhr.words('English-Latin1')\n",
    "udhr[:20]"
   ]
  },
  {
   "cell_type": "code",
   "execution_count": 21,
   "metadata": {},
   "outputs": [
    {
     "data": {
      "text/plain": [
       "['univers',\n",
       " 'declar',\n",
       " 'of',\n",
       " 'human',\n",
       " 'right',\n",
       " 'preambl',\n",
       " 'wherea',\n",
       " 'recognit',\n",
       " 'of',\n",
       " 'the',\n",
       " 'inher',\n",
       " 'digniti',\n",
       " 'and',\n",
       " 'of',\n",
       " 'the',\n",
       " 'equal',\n",
       " 'and',\n",
       " 'inalien',\n",
       " 'right',\n",
       " 'of']"
      ]
     },
     "execution_count": 21,
     "metadata": {},
     "output_type": "execute_result"
    }
   ],
   "source": [
    "[porter.stem(t) for t in udhr[:20]] # Still Lemmatization"
   ]
  },
  {
   "cell_type": "code",
   "execution_count": 22,
   "metadata": {},
   "outputs": [
    {
     "data": {
      "text/plain": [
       "['Universal',\n",
       " 'Declaration',\n",
       " 'of',\n",
       " 'Human',\n",
       " 'Rights',\n",
       " 'Preamble',\n",
       " 'Whereas',\n",
       " 'recognition',\n",
       " 'of',\n",
       " 'the',\n",
       " 'inherent',\n",
       " 'dignity',\n",
       " 'and',\n",
       " 'of',\n",
       " 'the',\n",
       " 'equal',\n",
       " 'and',\n",
       " 'inalienable',\n",
       " 'right',\n",
       " 'of']"
      ]
     },
     "execution_count": 22,
     "metadata": {},
     "output_type": "execute_result"
    }
   ],
   "source": [
    "WNlemma = nltk.WordNetLemmatizer()\n",
    "[WNlemma.lemmatize(t) for t in udhr[:20]]"
   ]
  },
  {
   "cell_type": "markdown",
   "metadata": {},
   "source": [
    "### Tokenization"
   ]
  },
  {
   "cell_type": "code",
   "execution_count": 23,
   "metadata": {},
   "outputs": [
    {
     "data": {
      "text/plain": [
       "['Children', \"shouldn't\", 'drink', 'a', 'sugary', 'drink', 'before', 'bed.']"
      ]
     },
     "execution_count": 23,
     "metadata": {},
     "output_type": "execute_result"
    }
   ],
   "source": [
    "text11 = \"Children shouldn't drink a sugary drink before bed.\"\n",
    "text11.split(' ')"
   ]
  },
  {
   "cell_type": "code",
   "execution_count": 24,
   "metadata": {},
   "outputs": [
    {
     "data": {
      "text/plain": [
       "['Children',\n",
       " 'should',\n",
       " \"n't\",\n",
       " 'drink',\n",
       " 'a',\n",
       " 'sugary',\n",
       " 'drink',\n",
       " 'before',\n",
       " 'bed',\n",
       " '.']"
      ]
     },
     "execution_count": 24,
     "metadata": {},
     "output_type": "execute_result"
    }
   ],
   "source": [
    "nltk.word_tokenize(text11)"
   ]
  },
  {
   "cell_type": "code",
   "execution_count": 25,
   "metadata": {},
   "outputs": [
    {
     "data": {
      "text/plain": [
       "['This is the first sentence.',\n",
       " 'A gallon of milk in the U.S. costs $2.99.',\n",
       " 'Is this the third sentence?',\n",
       " 'Yes, it is!']"
      ]
     },
     "execution_count": 25,
     "metadata": {},
     "output_type": "execute_result"
    }
   ],
   "source": [
    "text12 = \"This is the first sentence. A gallon of milk in the U.S. costs $2.99. Is this the third sentence? Yes, it is!\"\n",
    "sentences = nltk.sent_tokenize(text12)\n",
    "sentences"
   ]
  },
  {
   "cell_type": "code",
   "execution_count": 26,
   "metadata": {},
   "outputs": [
    {
     "data": {
      "text/plain": [
       "['This is the first sentence.',\n",
       " 'A gallon of milk in the U.S. costs $2.99.',\n",
       " 'Is this the third sentence?',\n",
       " 'Yes, it is!']"
      ]
     },
     "execution_count": 26,
     "metadata": {},
     "output_type": "execute_result"
    }
   ],
   "source": [
    "sentences"
   ]
  },
  {
   "cell_type": "markdown",
   "metadata": {},
   "source": [
    "## Advanced NLP Tasks with NLTK"
   ]
  },
  {
   "cell_type": "markdown",
   "metadata": {},
   "source": [
    "### POS tagging"
   ]
  },
  {
   "cell_type": "code",
   "execution_count": 27,
   "metadata": {},
   "outputs": [
    {
     "name": "stdout",
     "output_type": "stream",
     "text": [
      "MD: modal auxiliary\n",
      "    can cannot could couldn't dare may might must need ought shall should\n",
      "    shouldn't will would\n"
     ]
    }
   ],
   "source": [
    "nltk.help.upenn_tagset('MD')"
   ]
  },
  {
   "cell_type": "code",
   "execution_count": 28,
   "metadata": {},
   "outputs": [
    {
     "data": {
      "text/plain": [
       "[('Children', 'NNP'),\n",
       " ('should', 'MD'),\n",
       " (\"n't\", 'RB'),\n",
       " ('drink', 'VB'),\n",
       " ('a', 'DT'),\n",
       " ('sugary', 'JJ'),\n",
       " ('drink', 'NN'),\n",
       " ('before', 'IN'),\n",
       " ('bed', 'NN'),\n",
       " ('.', '.')]"
      ]
     },
     "execution_count": 28,
     "metadata": {},
     "output_type": "execute_result"
    }
   ],
   "source": [
    "text13 = nltk.word_tokenize(text11)\n",
    "nltk.pos_tag(text13)"
   ]
  },
  {
   "cell_type": "code",
   "execution_count": 29,
   "metadata": {},
   "outputs": [
    {
     "data": {
      "text/plain": [
       "[('Visiting', 'VBG'),\n",
       " ('aunts', 'NNS'),\n",
       " ('can', 'MD'),\n",
       " ('be', 'VB'),\n",
       " ('a', 'DT'),\n",
       " ('nuisance', 'NN')]"
      ]
     },
     "execution_count": 29,
     "metadata": {},
     "output_type": "execute_result"
    }
   ],
   "source": [
    "text14 = nltk.word_tokenize(\"Visiting aunts can be a nuisance\")\n",
    "nltk.pos_tag(text14)"
   ]
  },
  {
   "cell_type": "code",
   "execution_count": 30,
   "metadata": {},
   "outputs": [
    {
     "name": "stdout",
     "output_type": "stream",
     "text": [
      "(S (NP Alice) (VP (V loves) (NP Bob)))\n"
     ]
    }
   ],
   "source": [
    "# Parsing sentence structure\n",
    "text15 = nltk.word_tokenize(\"Alice loves Bob\")\n",
    "grammar = nltk.CFG.fromstring(\"\"\"\n",
    "S -> NP VP\n",
    "VP -> V NP\n",
    "NP -> 'Alice' | 'Bob'\n",
    "V -> 'loves'\n",
    "\"\"\")\n",
    "\n",
    "parser = nltk.ChartParser(grammar)\n",
    "trees = parser.parse_all(text15)\n",
    "for tree in trees:\n",
    "    print(tree)"
   ]
  },
  {
   "cell_type": "code",
   "execution_count": 31,
   "metadata": {},
   "outputs": [
    {
     "data": {
      "text/plain": [
       "<Grammar with 13 productions>"
      ]
     },
     "execution_count": 31,
     "metadata": {},
     "output_type": "execute_result"
    }
   ],
   "source": [
    "text16 = nltk.word_tokenize(\"I saw the man with a telescope\")\n",
    "grammar1 = nltk.data.load('mygrammar.cfg')\n",
    "grammar1"
   ]
  },
  {
   "cell_type": "code",
   "execution_count": 41,
   "metadata": {},
   "outputs": [
    {
     "name": "stdout",
     "output_type": "stream",
     "text": [
      "(S\n",
      "  (NP I)\n",
      "  (VP\n",
      "    (VP (V saw) (NP (Det the) (N man)))\n",
      "    (PP (P with) (NP (Det a) (N telescope)))))\n",
      "(S\n",
      "  (NP I)\n",
      "  (VP\n",
      "    (V saw)\n",
      "    (NP (Det the) (N man) (PP (P with) (NP (Det a) (N telescope))))))\n"
     ]
    }
   ],
   "source": [
    "parser = nltk.ChartParser(grammar1)\n",
    "trees = parser.parse_all(text16)\n",
    "for tree in trees:\n",
    "    print(tree)"
   ]
  },
  {
   "cell_type": "code",
   "execution_count": 32,
   "metadata": {},
   "outputs": [
    {
     "name": "stdout",
     "output_type": "stream",
     "text": [
      "(S\n",
      "  (NP-SBJ\n",
      "    (NP (NNP Pierre) (NNP Vinken))\n",
      "    (, ,)\n",
      "    (ADJP (NP (CD 61) (NNS years)) (JJ old))\n",
      "    (, ,))\n",
      "  (VP\n",
      "    (MD will)\n",
      "    (VP\n",
      "      (VB join)\n",
      "      (NP (DT the) (NN board))\n",
      "      (PP-CLR (IN as) (NP (DT a) (JJ nonexecutive) (NN director)))\n",
      "      (NP-TMP (NNP Nov.) (CD 29))))\n",
      "  (. .))\n"
     ]
    }
   ],
   "source": [
    "from nltk.corpus import treebank\n",
    "text17 = treebank.parsed_sents('wsj_0001.mrg')[0]\n",
    "print(text17)"
   ]
  },
  {
   "cell_type": "markdown",
   "metadata": {},
   "source": [
    "### POS tagging and parsing ambiguity"
   ]
  },
  {
   "cell_type": "code",
   "execution_count": 33,
   "metadata": {},
   "outputs": [
    {
     "data": {
      "text/plain": [
       "[('The', 'DT'), ('old', 'JJ'), ('man', 'NN'), ('the', 'DT'), ('boat', 'NN')]"
      ]
     },
     "execution_count": 33,
     "metadata": {},
     "output_type": "execute_result"
    }
   ],
   "source": [
    "text18 = nltk.word_tokenize(\"The old man the boat\")\n",
    "nltk.pos_tag(text18)"
   ]
  },
  {
   "cell_type": "code",
   "execution_count": 34,
   "metadata": {},
   "outputs": [
    {
     "data": {
      "text/plain": [
       "[('Colorless', 'NNP'),\n",
       " ('green', 'JJ'),\n",
       " ('ideas', 'NNS'),\n",
       " ('sleep', 'VBP'),\n",
       " ('furiously', 'RB')]"
      ]
     },
     "execution_count": 34,
     "metadata": {},
     "output_type": "execute_result"
    }
   ],
   "source": [
    "text19 = nltk.word_tokenize(\"Colorless green ideas sleep furiously\")\n",
    "nltk.pos_tag(text19)"
   ]
  },
  {
   "cell_type": "code",
   "execution_count": null,
   "metadata": {
    "collapsed": true
   },
   "outputs": [],
   "source": []
  }
 ],
 "metadata": {
  "kernelspec": {
   "display_name": "Python 3",
   "language": "python",
   "name": "python3"
  },
  "language_info": {
   "codemirror_mode": {
    "name": "ipython",
    "version": 3
   },
   "file_extension": ".py",
   "mimetype": "text/x-python",
   "name": "python",
   "nbconvert_exporter": "python",
   "pygments_lexer": "ipython3",
   "version": "3.6.0"
  }
 },
 "nbformat": 4,
 "nbformat_minor": 2
}
